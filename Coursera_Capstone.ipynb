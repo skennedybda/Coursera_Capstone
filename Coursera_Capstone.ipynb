{
 "cells": [
  {
   "cell_type": "markdown",
   "id": "d257de8a-dd0f-4044-b698-995d1dce7d03",
   "metadata": {},
   "source": [
    "<h2>Coursera_Capstone"
   ]
  },
  {
   "cell_type": "markdown",
   "id": "be83ea31-9300-4e06-8871-d58d6404c6c2",
   "metadata": {},
   "source": [
    "This notebook will mainly be used for development of my Capstone project submission for the IBM Data Science Certificate course"
   ]
  },
  {
   "cell_type": "code",
   "execution_count": 1,
   "id": "77c37dee-f4fe-4380-a77c-6286d754bdc6",
   "metadata": {},
   "outputs": [
    {
     "name": "stdout",
     "output_type": "stream",
     "text": [
      "Hello Capstone Project Course!\n"
     ]
    }
   ],
   "source": [
    "import pandas as pd\n",
    "import numpy as np\n",
    "\n",
    "print(\"Hello Capstone Project Course!\")"
   ]
  },
  {
   "cell_type": "code",
   "execution_count": null,
   "id": "e2ba4fe2-4340-4cfc-8561-fc85f37d1b9f",
   "metadata": {},
   "outputs": [],
   "source": []
  }
 ],
 "metadata": {
  "kernelspec": {
   "display_name": "Python",
   "language": "python",
   "name": "conda-env-python-py"
  },
  "language_info": {
   "codemirror_mode": {
    "name": "ipython",
    "version": 3
   },
   "file_extension": ".py",
   "mimetype": "text/x-python",
   "name": "python",
   "nbconvert_exporter": "python",
   "pygments_lexer": "ipython3",
   "version": "3.6.13"
  }
 },
 "nbformat": 4,
 "nbformat_minor": 5
}
